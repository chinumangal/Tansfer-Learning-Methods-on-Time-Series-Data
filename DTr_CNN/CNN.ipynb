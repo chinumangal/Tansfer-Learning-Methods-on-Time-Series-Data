{
 "cells": [
  {
   "cell_type": "markdown",
   "metadata": {},
   "source": [
    "# Ideas for the CNN:\n",
    "---\n",
    "---\n",
    "- bigger kernel size"
   ]
  },
  {
   "cell_type": "code",
   "execution_count": 2,
   "metadata": {},
   "outputs": [
    {
     "ename": "ModuleNotFoundError",
     "evalue": "No module named 'models_transfer'",
     "output_type": "error",
     "traceback": [
      "\u001b[0;31m---------------------------------------------------------------------------\u001b[0m",
      "\u001b[0;31mModuleNotFoundError\u001b[0m                       Traceback (most recent call last)",
      "Cell \u001b[0;32mIn[2], line 1\u001b[0m\n\u001b[0;32m----> 1\u001b[0m \u001b[38;5;28;01mfrom\u001b[39;00m \u001b[38;5;21;01mmodels_transfer\u001b[39;00m \u001b[38;5;28;01mimport\u001b[39;00m Base_Model\n\u001b[1;32m      3\u001b[0m model \u001b[38;5;241m=\u001b[39m Base_Model()\n",
      "\u001b[0;31mModuleNotFoundError\u001b[0m: No module named 'models_transfer'"
     ]
    }
   ],
   "source": [
    "from models_transfer import Base_Model\n",
    "\n",
    "model = Base_Model()\n"
   ]
  }
 ],
 "metadata": {
  "kernelspec": {
   "display_name": "env_transfer",
   "language": "python",
   "name": "python3"
  },
  "language_info": {
   "codemirror_mode": {
    "name": "ipython",
    "version": 3
   },
   "file_extension": ".py",
   "mimetype": "text/x-python",
   "name": "python",
   "nbconvert_exporter": "python",
   "pygments_lexer": "ipython3",
   "version": "3.10.12"
  }
 },
 "nbformat": 4,
 "nbformat_minor": 2
}
